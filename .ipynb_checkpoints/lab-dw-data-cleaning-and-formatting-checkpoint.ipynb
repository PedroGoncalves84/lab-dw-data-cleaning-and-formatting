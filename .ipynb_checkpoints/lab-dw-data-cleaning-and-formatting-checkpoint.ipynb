{
 "cells": [
  {
   "cell_type": "code",
   "execution_count": 6,
   "id": "1515cd8b-0c91-41c2-b875-bca277d972ca",
   "metadata": {},
   "outputs": [
    {
     "name": "stdout",
     "output_type": "stream",
     "text": [
      "Index(['Customer', 'ST', 'GENDER', 'Education', 'Customer Lifetime Value',\n",
      "       'Income', 'Monthly Premium Auto', 'Number of Open Complaints',\n",
      "       'Policy Type', 'Vehicle Class', 'Total Claim Amount'],\n",
      "      dtype='object')\n"
     ]
    }
   ],
   "source": [
    "import pandas as pd\n",
    "\n",
    "url = \"https://raw.githubusercontent.com/data-bootcamp-v4/data/main/file1.csv\"\n",
    "df = pd.read_csv(url)\n",
    "\n",
    "print(df.columns)\n"
   ]
  },
  {
   "cell_type": "code",
   "execution_count": 7,
   "id": "961d96f6-9ce4-472b-8db0-77720468eb6f",
   "metadata": {},
   "outputs": [
    {
     "name": "stdout",
     "output_type": "stream",
     "text": [
      "Index(['customer', 'state', 'gender', 'education', 'customer_lifetime_value',\n",
      "       'income', 'monthly_premium_auto', 'number_of_open_complaints',\n",
      "       'policy_type', 'vehicle_class', 'total_claim_amount'],\n",
      "      dtype='object')\n"
     ]
    }
   ],
   "source": [
    "df.columns = df.columns.str.lower().str.replace(' ', '_').str.replace(r'\\bst\\b', 'state', regex=True)\n",
    "\n",
    "print(df.columns)"
   ]
  },
  {
   "cell_type": "code",
   "execution_count": 9,
   "id": "49c51f84-96cb-4fc9-8603-e92345dc0f63",
   "metadata": {},
   "outputs": [
    {
     "name": "stdout",
     "output_type": "stream",
     "text": [
      "  gender       state             education  customer_lifetime_value  \\\n",
      "0    NaN  Washington                Master                      NaN   \n",
      "1      F     Arizona              Bachelor                697953.59   \n",
      "2      F      Nevada              Bachelor               1288743.17   \n",
      "3      M  California              Bachelor                764586.18   \n",
      "4      M  Washington  High School or Below                536307.65   \n",
      "\n",
      "   vehicle_class  \n",
      "0  Four-Door Car  \n",
      "1  Four-Door Car  \n",
      "2   Two-Door Car  \n",
      "3            SUV  \n",
      "4  Four-Door Car  \n"
     ]
    }
   ],
   "source": [
    "df['gender'] = df['gender'].str.strip().str.lower().map({\n",
    "    'female': 'F', 'f': 'F', 'femal': 'F',\n",
    "    'male': 'M', 'm': 'M'\n",
    "})\n",
    "\n",
    "state_map = {\n",
    "    'AZ': 'Arizona',\n",
    "    'Cali': 'California',\n",
    "    'WA': 'Washington'\n",
    "}\n",
    "df['state'] = df['state'].replace(state_map)\n",
    "\n",
    "df['education'] = df['education'].replace({'Bachelors': 'Bachelor'})\n",
    "\n",
    "df['customer_lifetime_value'] = df['customer_lifetime_value'].astype(str).str.replace('%', '')\n",
    "df['customer_lifetime_value'] = pd.to_numeric(df['customer_lifetime_value'], errors='coerce')\n",
    "\n",
    "df['vehicle_class'] = df['vehicle_class'].replace({\n",
    "    'Sports Car': 'Luxury',\n",
    "    'Luxury SUV': 'Luxury',\n",
    "    'Luxury Car': 'Luxury'\n",
    "})\n",
    "\n",
    "print(df[['gender', 'state', 'education', 'customer_lifetime_value', 'vehicle_class']].head())"
   ]
  },
  {
   "cell_type": "code",
   "execution_count": 10,
   "id": "ffbc5a46-c829-46ea-8c9a-5206fca1fe23",
   "metadata": {},
   "outputs": [
    {
     "name": "stdout",
     "output_type": "stream",
     "text": [
      "Unique complaints format values: ['1/0/00' '1/2/00' '1/1/00' '1/3/00' '1/5/00' '1/4/00' nan]\n",
      "   customer_lifetime_value  number_of_open_complaints\n",
      "0                      NaN                        0.0\n",
      "1                697953.59                        0.0\n",
      "2               1288743.17                        0.0\n",
      "3                764586.18                        0.0\n",
      "4                536307.65                        0.0\n",
      "customer                      object\n",
      "state                         object\n",
      "gender                        object\n",
      "education                     object\n",
      "customer_lifetime_value      float64\n",
      "income                       float64\n",
      "monthly_premium_auto         float64\n",
      "number_of_open_complaints    float64\n",
      "policy_type                   object\n",
      "vehicle_class                 object\n",
      "total_claim_amount           float64\n",
      "dtype: object\n"
     ]
    }
   ],
   "source": [
    "print(\"Unique complaints format values:\", df['number_of_open_complaints'].unique())\n",
    "\n",
    "def extract_middle_number(val):\n",
    "    if isinstance(val, str) and '/' in val:\n",
    "        parts = val.split('/')\n",
    "        if len(parts) >= 2 and parts[1].isdigit():\n",
    "            return int(parts[1])\n",
    "    try:\n",
    "        return int(val)  \n",
    "    except:\n",
    "        return None\n",
    "\n",
    "df['number_of_open_complaints'] = df['number_of_open_complaints'].apply(extract_middle_number)\n",
    "\n",
    "df['number_of_open_complaints'] = pd.to_numeric(df['number_of_open_complaints'], errors='coerce')\n",
    "\n",
    "print(df[['customer_lifetime_value', 'number_of_open_complaints']].head())\n",
    "print(df.dtypes)"
   ]
  },
  {
   "cell_type": "code",
   "execution_count": 12,
   "id": "3b549d99-92e3-4671-a6b6-3c3b19406440",
   "metadata": {},
   "outputs": [
    {
     "name": "stdout",
     "output_type": "stream",
     "text": [
      "Null values per column:\n",
      " Series([], dtype: int64)\n",
      "\n",
      "Remaining null values:\n",
      " 0\n",
      "\n",
      "Data types after conversion:\n",
      " customer                     object\n",
      "state                        object\n",
      "gender                       object\n",
      "education                    object\n",
      "customer_lifetime_value       int32\n",
      "income                        int32\n",
      "monthly_premium_auto          int32\n",
      "number_of_open_complaints     int32\n",
      "policy_type                  object\n",
      "vehicle_class                object\n",
      "total_claim_amount            int32\n",
      "dtype: object\n"
     ]
    }
   ],
   "source": [
    "def extract_middle_number(val):\n",
    "    if isinstance(val, str) and '/' in val:\n",
    "        parts = val.split('/')\n",
    "        if len(parts) >= 2 and parts[1].isdigit():\n",
    "            return int(parts[1])\n",
    "    try:\n",
    "        return int(val)\n",
    "    except:\n",
    "        return None\n",
    "\n",
    "df['number_of_open_complaints'] = df['number_of_open_complaints'].apply(extract_middle_number)\n",
    "df['number_of_open_complaints'] = pd.to_numeric(df['number_of_open_complaints'], errors='coerce')\n",
    "\n",
    "# Step 1: Identify columns with null values\n",
    "null_counts = df.isnull().sum()\n",
    "print(\"Null values per column:\\n\", null_counts[null_counts > 0])\n",
    "\n",
    "# Step 2 & 3: Handle nulls\n",
    "for col in df.columns:\n",
    "    if df[col].isnull().sum() > 0:\n",
    "        if df[col].dtype in ['float64', 'int64']:\n",
    "            median_value = df[col].median()\n",
    "            df[col].fillna(median_value, inplace=True)\n",
    "        else:\n",
    "            mode_value = df[col].mode()[0]\n",
    "            df[col].fillna(mode_value, inplace=True)\n",
    "\n",
    "# Step 4: Confirm no null values remain\n",
    "print(\"\\nRemaining null values:\\n\", df.isnull().sum().sum())\n",
    "\n",
    "# Step 5: Convert all numeric variables to integers\n",
    "for col in df.select_dtypes(include='number').columns:\n",
    "    df[col] = df[col].astype(int)\n",
    "\n",
    "# Confirm data types (optional)\n",
    "print(\"\\nData types after conversion:\\n\", df.dtypes)"
   ]
  },
  {
   "cell_type": "code",
   "execution_count": 14,
   "id": "23faff3e-d423-48dc-9963-9c33d9f127a9",
   "metadata": {},
   "outputs": [
    {
     "name": "stdout",
     "output_type": "stream",
     "text": [
      "\n",
      "Number of duplicate rows: 0\n",
      "Remaining duplicate rows after cleanup: 0\n",
      "\n",
      "Cleaned dataset saved as 'cleaned_insurance_data.csv'\n"
     ]
    }
   ],
   "source": [
    "df['number_of_open_complaints'] = df['number_of_open_complaints'].apply(\n",
    "    lambda x: int(x.split('/')[1]) if isinstance(x, str) and '/' in x else pd.to_numeric(x, errors='coerce')\n",
    ")\n",
    "df.fillna(df.median(numeric_only=True), inplace=True)\n",
    "df.fillna(df.mode().iloc[0], inplace=True)\n",
    "for col in df.select_dtypes(include='number').columns:\n",
    "    df[col] = df[col].astype(int)\n",
    "\n",
    "\n",
    "duplicate_rows = df.duplicated()\n",
    "print(f\"\\nNumber of duplicate rows: {duplicate_rows.sum()}\")\n",
    "\n",
    "df = df.drop_duplicates(keep='first').reset_index(drop=True)\n",
    "\n",
    "print(f\"Remaining duplicate rows after cleanup: {df.duplicated().sum()}\")\n",
    "\n",
    "df.to_csv(\"cleaned_insurance_data.csv\", index=False)\n",
    "print(\"\\nCleaned dataset saved as 'cleaned_insurance_data.csv'\")"
   ]
  },
  {
   "cell_type": "code",
   "execution_count": null,
   "id": "ea33da1a-dd19-4961-bcf3-8d2c3bf52ed3",
   "metadata": {},
   "outputs": [],
   "source": []
  }
 ],
 "metadata": {
  "kernelspec": {
   "display_name": "Python 3 (ipykernel)",
   "language": "python",
   "name": "python3"
  },
  "language_info": {
   "codemirror_mode": {
    "name": "ipython",
    "version": 3
   },
   "file_extension": ".py",
   "mimetype": "text/x-python",
   "name": "python",
   "nbconvert_exporter": "python",
   "pygments_lexer": "ipython3",
   "version": "3.12.7"
  }
 },
 "nbformat": 4,
 "nbformat_minor": 5
}
